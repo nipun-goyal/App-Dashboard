{
 "cells": [
  {
   "cell_type": "code",
   "execution_count": 30,
   "metadata": {},
   "outputs": [],
   "source": [
    "import pandas as pd\n",
    "import requests\n",
    "from bs4 import BeautifulSoup as bs\n",
    "import io\n",
    "import pandas as pd\n",
    "from collections import Counter\n",
    "import requests\n",
    "from bs4 import BeautifulSoup as bs\n",
    "from IPython.core.interactiveshell import InteractiveShell\n",
    "InteractiveShell.ast_node_interactivity = 'all'\n",
    "import tika\n",
    "import pickle\n",
    "from tika import parser\n",
    "import spacy\n",
    "from spacy import displacy\n",
    "nlp = spacy.load(\"en_core_web_sm\")\n",
    "nlp.max_length = 2000000\n",
    "import re\n",
    "import pickle\n",
    "\n",
    "import matplotlib.pyplot as plt\n",
    "%matplotlib notebook\n",
    "%matplotlib inline"
   ]
  },
  {
   "cell_type": "markdown",
   "metadata": {},
   "source": [
    "## Part 1: Get folder links for four submitter categories"
   ]
  },
  {
   "cell_type": "code",
   "execution_count": 31,
   "metadata": {
    "scrolled": true
   },
   "outputs": [
    {
     "output_type": "execute_result",
     "data": {
      "text/plain": [
       "           submitter_category  \\\n",
       "0              A - Commission   \n",
       "1  B - Enbridge Pipeline Inc.   \n",
       "2             C - Intervenors   \n",
       "3              D - Commenters   \n",
       "4                 Transcripts   \n",
       "\n",
       "                                         folder_link  \n",
       "0  https://apps.cer-rec.gc.ca/REGDOCS/Item/LoadRe...  \n",
       "1  https://apps.cer-rec.gc.ca/REGDOCS/Item/LoadRe...  \n",
       "2  https://apps.cer-rec.gc.ca/REGDOCS/Item/LoadRe...  \n",
       "3  https://apps.cer-rec.gc.ca/REGDOCS/Item/LoadRe...  \n",
       "4  https://apps.cer-rec.gc.ca/REGDOCS/Item/LoadRe...  "
      ],
      "text/html": "<div>\n<style scoped>\n    .dataframe tbody tr th:only-of-type {\n        vertical-align: middle;\n    }\n\n    .dataframe tbody tr th {\n        vertical-align: top;\n    }\n\n    .dataframe thead th {\n        text-align: right;\n    }\n</style>\n<table border=\"1\" class=\"dataframe\">\n  <thead>\n    <tr style=\"text-align: right;\">\n      <th></th>\n      <th>submitter_category</th>\n      <th>folder_link</th>\n    </tr>\n  </thead>\n  <tbody>\n    <tr>\n      <td>0</td>\n      <td>A - Commission</td>\n      <td>https://apps.cer-rec.gc.ca/REGDOCS/Item/LoadRe...</td>\n    </tr>\n    <tr>\n      <td>1</td>\n      <td>B - Enbridge Pipeline Inc.</td>\n      <td>https://apps.cer-rec.gc.ca/REGDOCS/Item/LoadRe...</td>\n    </tr>\n    <tr>\n      <td>2</td>\n      <td>C - Intervenors</td>\n      <td>https://apps.cer-rec.gc.ca/REGDOCS/Item/LoadRe...</td>\n    </tr>\n    <tr>\n      <td>3</td>\n      <td>D - Commenters</td>\n      <td>https://apps.cer-rec.gc.ca/REGDOCS/Item/LoadRe...</td>\n    </tr>\n    <tr>\n      <td>4</td>\n      <td>Transcripts</td>\n      <td>https://apps.cer-rec.gc.ca/REGDOCS/Item/LoadRe...</td>\n    </tr>\n  </tbody>\n</table>\n</div>"
     },
     "metadata": {},
     "execution_count": 31
    },
    {
     "output_type": "execute_result",
     "data": {
      "text/plain": [
       "(5, 2)"
      ]
     },
     "metadata": {},
     "execution_count": 31
    }
   ],
   "source": [
    "#get download links for all pdfs in RH-002-2020 proceeding\n",
    "\n",
    "REGDOCS_url_main = 'https://apps.cer-rec.gc.ca/REGDOCS/Item/LoadResult/3890507' \n",
    "cookies = {'RDI-NumberOfRecords' : '200'} \n",
    "\n",
    "r = requests.get(REGDOCS_url_main, cookies = cookies)\n",
    "soup = bs(r.text, 'html.parser')\n",
    "\n",
    "a_html_tags = [x['href'] for x in soup.find_all('a', {'class' : 'link-wait no-expand'})]\n",
    "a_html_tags = ['https://apps.cer-rec.gc.ca' + x for x in a_html_tags]\n",
    "\n",
    "submitter_category = [x.text for x in soup.find_all('a', {'class' : 'link-wait no-expand'})]\n",
    "\n",
    "\n",
    "df_url_main = pd.DataFrame({'submitter_category' : submitter_category, 'folder_link' : a_html_tags})\n",
    "df_url_main['folder_link'] = df_url_main['folder_link'].str.replace('View', 'LoadResult')\n",
    "df_url_main = df_url_main.append({'submitter_category' : 'Transcripts', 'folder_link' : 'https://apps.cer-rec.gc.ca/REGDOCS/Item/LoadResult/4096405'}, ignore_index=True)\n",
    "df_url_main.head()\n",
    "df_url_main.shape"
   ]
  },
  {
   "cell_type": "markdown",
   "metadata": {},
   "source": [
    "## Part 2: Get download links and document attributes for each submitter category"
   ]
  },
  {
   "cell_type": "code",
   "execution_count": 32,
   "metadata": {
    "scrolled": false
   },
   "outputs": [
    {
     "output_type": "stream",
     "name": "stdout",
     "text": [
      "Wall time: 1min 44s\n"
     ]
    }
   ],
   "source": [
    "%%time\n",
    "# CPU times: user 25.7 s, sys: 974 ms, total: 26.7 s\n",
    "# Wall time: 6min 27s\n",
    "\n",
    "docs_df = []\n",
    "\n",
    "for a, b in zip(df_url_main['submitter_category'], df_url_main['folder_link']):\n",
    "    if a == 'A - Commission' or a == 'B - Enbridge Pipeline Inc.':\n",
    "        r = requests.get(b, cookies = cookies)\n",
    "        soup = bs(r.text, 'html.parser')\n",
    "        a_tags = [x['href'] for x in soup.find_all('a', {'class' : 'link-wait no-expand'})]\n",
    "        a_tags_full = ['https://apps.cer-rec.gc.ca' + x for x in a_tags]\n",
    "        \n",
    "        folder_link = [x.replace('/View', '/LoadResult') for x in a_tags_full]\n",
    "        folder_name = [x.text for x in soup.find_all('a', {'class' : 'link-wait no-expand'})]\n",
    "        submitter = [x.text for x in soup.find_all('td', {'class' : 'col-md-2'})]\n",
    "        \n",
    "        date = [x.text for x in soup.find_all('td', {'class' : 'nowrap'})]\n",
    "        \n",
    "#         for x, y, z, m, n in zip(folder_link[0:2], submitter[0:2], date[0:2], folder_name[0:2], folder_link[0:2] ):\n",
    "        for x, y, z, m, n in zip(folder_link, submitter, date, folder_name, folder_link):\n",
    "            r = requests.get(x, cookies = cookies)\n",
    "            soup = bs(r.text, 'html.parser')\n",
    "            a_tags = [x['href'] for x in soup.find_all('a', {'target' : '_blank'})]\n",
    "            download_link = ['https://apps.cer-rec.gc.ca' + x for x in a_tags]\n",
    "            \n",
    "            doc_name = [x.text for x in soup.find_all('a', {'target' : '_blank'})]\n",
    "\n",
    "            df = pd.DataFrame({'doc_name' : doc_name, 'download_link' : download_link, 'submitter_name' : y, \\\n",
    "                                'filing_date' : z, 'folder_name' : m, 'submitter_category': a, 'folder_link' : n })\n",
    "            docs_df.append(df)\n",
    "\n",
    "    if a == 'C - Intervenors':\n",
    "        r = requests.get(b, cookies = cookies)\n",
    "        soup = bs(r.text, 'html.parser')\n",
    "        intervener_name = [x.text for x in soup.find_all('a' ,{'class' : 'link-wait no-expand' })]\n",
    "        interveners_folders = [x['href'] for x in soup.find_all('a' ,{'class' : 'link-wait no-expand' })]\n",
    "        interveners_folders = [x.replace('View', 'LoadResult') for x in interveners_folders]\n",
    "        interveners_folders = ['https://apps.cer-rec.gc.ca' + x for x in interveners_folders]\n",
    "        date = [x.text for x in soup.find_all('td', {'class' : 'nowrap'})]\n",
    "\n",
    "#         for x, y, z in zip(interveners_folders[0:2], intervener_name[0:2], date[0:2]):\n",
    "        for x, y, z in zip(interveners_folders, intervener_name, date):\n",
    "\n",
    "            r = requests.get(x)\n",
    "            soup = bs(r.text, 'html.parser')\n",
    "            folder_name = [x.text for x in soup.find_all('a' ,{'class' : 'link-wait no-expand' })]\n",
    "            folder_link = [x['href'] for x in soup.find_all('a' ,{'class' : 'link-wait no-expand' })]\n",
    "            folder_link = [x.replace('View', 'LoadResult') for x in folder_link]\n",
    "            folder_link = ['https://apps.cer-rec.gc.ca' + x for x in folder_link]\n",
    "            \n",
    "#             for g, h in zip(folder_link[0:2], folder_name[0:2]):\n",
    "            for g, h in zip(folder_link, folder_name):\n",
    "                r = requests.get(g, cookies = cookies)\n",
    "                soup = bs(r.text, 'html.parser')\n",
    "                a_tags = [x['href'] for x in soup.find_all('a', {'target' : '_blank'})]\n",
    "                download_link = ['https://apps.cer-rec.gc.ca' + x for x in a_tags] \n",
    "                \n",
    "                doc_name = [x.text for x in soup.find_all('a', {'target' : '_blank'})]\n",
    "                \n",
    "                df = pd.DataFrame({'doc_name' : doc_name, 'download_link' : download_link, \\\n",
    "                                    'filing_date' : z, 'folder_name' : h, 'submitter_category': a, \\\n",
    "                                   'submitter_name' : y, 'folder_link' : g })\n",
    "           \n",
    "                docs_df.append(df)\n",
    "    if a == 'Transcripts':\n",
    "        r = requests.get(b, cookies = cookies)\n",
    "        soup = bs(r.text, 'html.parser')\n",
    "        folder_name = [x.text for x in soup.find_all('a' ,{'class' : 'link-wait no-expand' })]\n",
    "#         print(folder_name)\n",
    "        folder_link = [x['href'] for x in soup.find_all('a' ,{'class' : 'link-wait no-expand' })]\n",
    "        folder_link = [x.replace('View', 'LoadResult') for x in folder_link]\n",
    "        folder_link = ['https://apps.cer-rec.gc.ca' + x for x in folder_link]\n",
    "        date = [x.text for x in soup.find_all('td', {'class' : 'nowrap'})]\n",
    "        submitter = [x.text for x in soup.find_all('td', {'class' : 'col-md-2'})]\n",
    "        \n",
    "        \n",
    "        for g, h, i, j in zip(folder_link, folder_name, date, submitter):\n",
    "            r = requests.get(g, cookies = cookies)\n",
    "            soup = bs(r.text, 'html.parser')\n",
    "            a_tags = [x['href'] for x in soup.find_all('a', {'target' : '_blank'})]\n",
    "#             print(a_tags)\n",
    "            download_link = ['https://apps.cer-rec.gc.ca' + x for x in a_tags] \n",
    "            doc_name = [x.text for x in soup.find_all('a', {'target' : '_blank'})]\n",
    "            df = pd.DataFrame({'doc_name' : doc_name, 'download_link' : download_link, \\\n",
    "                                    'filing_date' : i, 'folder_name' : h, 'submitter_category': a, \\\n",
    "                                   'submitter_name' : j, 'folder_link' : g })\n",
    "            docs_df.append(df)"
   ]
  },
  {
   "cell_type": "code",
   "execution_count": 33,
   "metadata": {},
   "outputs": [
    {
     "output_type": "stream",
     "name": "stderr",
     "text": [
      "ipykernel_launcher:1: FutureWarning: Sorting because non-concatenation axis is not aligned. A future version\nof pandas will change to not sort by default.\n\nTo accept the future behavior, pass 'sort=False'.\n\nTo retain the current behavior and silence the warning, pass 'sort=True'.\n\n"
     ]
    }
   ],
   "source": [
    "df_attributes = pd.concat(docs_df, ignore_index = True)\n",
    "df_attributes.to_csv('flatdata.csv', encoding = 'utf-8-sig')"
   ]
  },
  {
   "cell_type": "code",
   "execution_count": 34,
   "metadata": {
    "scrolled": false
   },
   "outputs": [
    {
     "output_type": "stream",
     "name": "stderr",
     "text": [
      "ipykernel_launcher:2: FutureWarning: Sorting because non-concatenation axis is not aligned. A future version\nof pandas will change to not sort by default.\n\nTo accept the future behavior, pass 'sort=False'.\n\nTo retain the current behavior and silence the warning, pass 'sort=True'.\n\n"
     ]
    },
    {
     "output_type": "execute_result",
     "data": {
      "text/plain": [
       "1218"
      ]
     },
     "metadata": {},
     "execution_count": 34
    },
    {
     "output_type": "execute_result",
     "data": {
      "text/plain": [
       "(1222, 7)"
      ]
     },
     "metadata": {},
     "execution_count": 34
    },
    {
     "output_type": "execute_result",
     "data": {
      "text/plain": [
       "                                            doc_name  \\\n",
       "0  C13853-1 Commission – Procedural Update No. 6 ...   \n",
       "2  C13649-1 Commission – Letter - Enbridge – Cana...   \n",
       "3  C13649-2 Commission – Aid to Questioning – Enb...   \n",
       "5  C13454-1 Commission – Procedural Update No. 5 ...   \n",
       "7  C13445-1 Commission – Letter – Enbridge – Cana...   \n",
       "\n",
       "                                       download_link filing_date  \\\n",
       "0  https://apps.cer-rec.gc.ca/REGDOCS/File/Downlo...  2021-06-30   \n",
       "2  https://apps.cer-rec.gc.ca/REGDOCS/File/Downlo...  2021-06-19   \n",
       "3  https://apps.cer-rec.gc.ca/REGDOCS/File/Downlo...  2021-06-19   \n",
       "5  https://apps.cer-rec.gc.ca/REGDOCS/File/Downlo...  2021-06-08   \n",
       "7  https://apps.cer-rec.gc.ca/REGDOCS/File/Downlo...  2021-06-07   \n",
       "\n",
       "                                         folder_link  \\\n",
       "0  https://apps.cer-rec.gc.ca/REGDOCS/Item/LoadRe...   \n",
       "2  https://apps.cer-rec.gc.ca/REGDOCS/Item/LoadRe...   \n",
       "3  https://apps.cer-rec.gc.ca/REGDOCS/Item/LoadRe...   \n",
       "5  https://apps.cer-rec.gc.ca/REGDOCS/Item/LoadRe...   \n",
       "7  https://apps.cer-rec.gc.ca/REGDOCS/Item/LoadRe...   \n",
       "\n",
       "                                         folder_name submitter_category  \\\n",
       "0  C13853 Commission | Commission - Procedural Up...     A - Commission   \n",
       "2  C13649 Commission | Commission - Letter – Enbr...     A - Commission   \n",
       "3  C13649 Commission | Commission - Letter – Enbr...     A - Commission   \n",
       "5  C13454 Commission | Commission - Procedural Up...     A - Commission   \n",
       "7  C13445 Commission | Commission - Letter – Enbr...     A - Commission   \n",
       "\n",
       "            submitter_name  \n",
       "0  Commission | Commission  \n",
       "2  Commission | Commission  \n",
       "3  Commission | Commission  \n",
       "5  Commission | Commission  \n",
       "7  Commission | Commission  "
      ],
      "text/html": "<div>\n<style scoped>\n    .dataframe tbody tr th:only-of-type {\n        vertical-align: middle;\n    }\n\n    .dataframe tbody tr th {\n        vertical-align: top;\n    }\n\n    .dataframe thead th {\n        text-align: right;\n    }\n</style>\n<table border=\"1\" class=\"dataframe\">\n  <thead>\n    <tr style=\"text-align: right;\">\n      <th></th>\n      <th>doc_name</th>\n      <th>download_link</th>\n      <th>filing_date</th>\n      <th>folder_link</th>\n      <th>folder_name</th>\n      <th>submitter_category</th>\n      <th>submitter_name</th>\n    </tr>\n  </thead>\n  <tbody>\n    <tr>\n      <td>0</td>\n      <td>C13853-1 Commission – Procedural Update No. 6 ...</td>\n      <td>https://apps.cer-rec.gc.ca/REGDOCS/File/Downlo...</td>\n      <td>2021-06-30</td>\n      <td>https://apps.cer-rec.gc.ca/REGDOCS/Item/LoadRe...</td>\n      <td>C13853 Commission | Commission - Procedural Up...</td>\n      <td>A - Commission</td>\n      <td>Commission | Commission</td>\n    </tr>\n    <tr>\n      <td>2</td>\n      <td>C13649-1 Commission – Letter - Enbridge – Cana...</td>\n      <td>https://apps.cer-rec.gc.ca/REGDOCS/File/Downlo...</td>\n      <td>2021-06-19</td>\n      <td>https://apps.cer-rec.gc.ca/REGDOCS/Item/LoadRe...</td>\n      <td>C13649 Commission | Commission - Letter – Enbr...</td>\n      <td>A - Commission</td>\n      <td>Commission | Commission</td>\n    </tr>\n    <tr>\n      <td>3</td>\n      <td>C13649-2 Commission – Aid to Questioning – Enb...</td>\n      <td>https://apps.cer-rec.gc.ca/REGDOCS/File/Downlo...</td>\n      <td>2021-06-19</td>\n      <td>https://apps.cer-rec.gc.ca/REGDOCS/Item/LoadRe...</td>\n      <td>C13649 Commission | Commission - Letter – Enbr...</td>\n      <td>A - Commission</td>\n      <td>Commission | Commission</td>\n    </tr>\n    <tr>\n      <td>5</td>\n      <td>C13454-1 Commission – Procedural Update No. 5 ...</td>\n      <td>https://apps.cer-rec.gc.ca/REGDOCS/File/Downlo...</td>\n      <td>2021-06-08</td>\n      <td>https://apps.cer-rec.gc.ca/REGDOCS/Item/LoadRe...</td>\n      <td>C13454 Commission | Commission - Procedural Up...</td>\n      <td>A - Commission</td>\n      <td>Commission | Commission</td>\n    </tr>\n    <tr>\n      <td>7</td>\n      <td>C13445-1 Commission – Letter – Enbridge – Cana...</td>\n      <td>https://apps.cer-rec.gc.ca/REGDOCS/File/Downlo...</td>\n      <td>2021-06-07</td>\n      <td>https://apps.cer-rec.gc.ca/REGDOCS/Item/LoadRe...</td>\n      <td>C13445 Commission | Commission - Letter – Enbr...</td>\n      <td>A - Commission</td>\n      <td>Commission | Commission</td>\n    </tr>\n  </tbody>\n</table>\n</div>"
     },
     "metadata": {},
     "execution_count": 34
    },
    {
     "output_type": "execute_result",
     "data": {
      "text/plain": [
       "                                               doc_name  \\\n",
       "1907            C14074-1 Vol.25-TueJuly13,2021 - A7V2E9   \n",
       "1909            C14088-1 Vol.26-WedJuly14,2021 - A7V2I1   \n",
       "1914            C14110-1 Vol.27-ThuJuly15,2021 - A7V2R7   \n",
       "1919  C14113-1 EPAC Letter  to CER regarding correct...   \n",
       "1927            C14134-1 Vol.28-FriJuly16,2021 - A7V2Y3   \n",
       "\n",
       "                                          download_link filing_date  \\\n",
       "1907  https://apps.cer-rec.gc.ca/REGDOCS/File/Downlo...  2021-07-13   \n",
       "1909  https://apps.cer-rec.gc.ca/REGDOCS/File/Downlo...  2021-07-14   \n",
       "1914  https://apps.cer-rec.gc.ca/REGDOCS/File/Downlo...  2021-07-15   \n",
       "1919  https://apps.cer-rec.gc.ca/REGDOCS/File/Downlo...  2021-07-16   \n",
       "1927  https://apps.cer-rec.gc.ca/REGDOCS/File/Downlo...  2021-07-16   \n",
       "\n",
       "                                            folder_link  \\\n",
       "1907  https://apps.cer-rec.gc.ca/REGDOCS/Item/LoadRe...   \n",
       "1909  https://apps.cer-rec.gc.ca/REGDOCS/Item/LoadRe...   \n",
       "1914  https://apps.cer-rec.gc.ca/REGDOCS/Item/LoadRe...   \n",
       "1919  https://apps.cer-rec.gc.ca/REGDOCS/Item/LoadRe...   \n",
       "1927  https://apps.cer-rec.gc.ca/REGDOCS/Item/LoadRe...   \n",
       "\n",
       "                                            folder_name submitter_category  \\\n",
       "1907  C14074 International Reporting Inc. - RH-001-2...        Transcripts   \n",
       "1909  C14088 International Reporting Inc. - RH-001-2...        Transcripts   \n",
       "1914  C14110 International Reporting Inc. - RH-001-2...        Transcripts   \n",
       "1919  C14113 The Explorers and Producers Association...        Transcripts   \n",
       "1927  C14134 International Reporting Inc. - RH-001-2...        Transcripts   \n",
       "\n",
       "                                         submitter_name  \n",
       "1907                       International Reporting Inc.  \n",
       "1909                       International Reporting Inc.  \n",
       "1914                       International Reporting Inc.  \n",
       "1919  The Explorers and Producers Association of Canada  \n",
       "1927                       International Reporting Inc.  "
      ],
      "text/html": "<div>\n<style scoped>\n    .dataframe tbody tr th:only-of-type {\n        vertical-align: middle;\n    }\n\n    .dataframe tbody tr th {\n        vertical-align: top;\n    }\n\n    .dataframe thead th {\n        text-align: right;\n    }\n</style>\n<table border=\"1\" class=\"dataframe\">\n  <thead>\n    <tr style=\"text-align: right;\">\n      <th></th>\n      <th>doc_name</th>\n      <th>download_link</th>\n      <th>filing_date</th>\n      <th>folder_link</th>\n      <th>folder_name</th>\n      <th>submitter_category</th>\n      <th>submitter_name</th>\n    </tr>\n  </thead>\n  <tbody>\n    <tr>\n      <td>1907</td>\n      <td>C14074-1 Vol.25-TueJuly13,2021 - A7V2E9</td>\n      <td>https://apps.cer-rec.gc.ca/REGDOCS/File/Downlo...</td>\n      <td>2021-07-13</td>\n      <td>https://apps.cer-rec.gc.ca/REGDOCS/Item/LoadRe...</td>\n      <td>C14074 International Reporting Inc. - RH-001-2...</td>\n      <td>Transcripts</td>\n      <td>International Reporting Inc.</td>\n    </tr>\n    <tr>\n      <td>1909</td>\n      <td>C14088-1 Vol.26-WedJuly14,2021 - A7V2I1</td>\n      <td>https://apps.cer-rec.gc.ca/REGDOCS/File/Downlo...</td>\n      <td>2021-07-14</td>\n      <td>https://apps.cer-rec.gc.ca/REGDOCS/Item/LoadRe...</td>\n      <td>C14088 International Reporting Inc. - RH-001-2...</td>\n      <td>Transcripts</td>\n      <td>International Reporting Inc.</td>\n    </tr>\n    <tr>\n      <td>1914</td>\n      <td>C14110-1 Vol.27-ThuJuly15,2021 - A7V2R7</td>\n      <td>https://apps.cer-rec.gc.ca/REGDOCS/File/Downlo...</td>\n      <td>2021-07-15</td>\n      <td>https://apps.cer-rec.gc.ca/REGDOCS/Item/LoadRe...</td>\n      <td>C14110 International Reporting Inc. - RH-001-2...</td>\n      <td>Transcripts</td>\n      <td>International Reporting Inc.</td>\n    </tr>\n    <tr>\n      <td>1919</td>\n      <td>C14113-1 EPAC Letter  to CER regarding correct...</td>\n      <td>https://apps.cer-rec.gc.ca/REGDOCS/File/Downlo...</td>\n      <td>2021-07-16</td>\n      <td>https://apps.cer-rec.gc.ca/REGDOCS/Item/LoadRe...</td>\n      <td>C14113 The Explorers and Producers Association...</td>\n      <td>Transcripts</td>\n      <td>The Explorers and Producers Association of Canada</td>\n    </tr>\n    <tr>\n      <td>1927</td>\n      <td>C14134-1 Vol.28-FriJuly16,2021 - A7V2Y3</td>\n      <td>https://apps.cer-rec.gc.ca/REGDOCS/File/Downlo...</td>\n      <td>2021-07-16</td>\n      <td>https://apps.cer-rec.gc.ca/REGDOCS/Item/LoadRe...</td>\n      <td>C14134 International Reporting Inc. - RH-001-2...</td>\n      <td>Transcripts</td>\n      <td>International Reporting Inc.</td>\n    </tr>\n  </tbody>\n</table>\n</div>"
     },
     "metadata": {},
     "execution_count": 34
    }
   ],
   "source": [
    "# create and save a dataframe of attributes\n",
    "df_attributes = pd.concat(docs_df, ignore_index = True)\n",
    "df_attributes = df_attributes[~df_attributes['doc_name'].str.contains('Receipt|Corrections')]\n",
    "\n",
    "df_attributes['submitter_name'] = df_attributes['submitter_name'].fillna(df_attributes['submitter_category'])\n",
    "df_attributes.to_csv('RH0012020_attributes.csv', index = 'False')\n",
    "df_attributes['download_link'].nunique()\n",
    "df_attributes.shape\n",
    "df_attributes.head(5)\n",
    "df_attributes.tail(5)"
   ]
  },
  {
   "cell_type": "markdown",
   "metadata": {},
   "source": [
    "## Part 3: Download pdfs, convert to string, save as pickle file"
   ]
  },
  {
   "cell_type": "code",
   "execution_count": 35,
   "metadata": {
    "scrolled": true
   },
   "outputs": [
    {
     "output_type": "stream",
     "name": "stderr",
     "text": [
      "2021-08-12 19:04:27,972 [MainThread  ] [INFO ]  Retrieving https://apps.cer-rec.gc.ca/REGDOCS/File/Download/4103988 to C:\\Users\\t1nipun\\AppData\\Local\\Temp\\11/regdocs-file-download-4103988.\n",
      "2021-08-12 19:04:29,633 [MainThread  ] [INFO ]  Retrieving https://apps.cer-rec.gc.ca/REGDOCS/File/Download/4102482 to C:\\Users\\t1nipun\\AppData\\Local\\Temp\\11/regdocs-file-download-4102482.\n",
      "2021-08-12 19:04:31,237 [MainThread  ] [INFO ]  Retrieving https://apps.cer-rec.gc.ca/REGDOCS/File/Download/4102483 to C:\\Users\\t1nipun\\AppData\\Local\\Temp\\11/regdocs-file-download-4102483.\n",
      "2021-08-12 19:04:32,873 [MainThread  ] [INFO ]  Retrieving https://apps.cer-rec.gc.ca/REGDOCS/File/Download/4101249 to C:\\Users\\t1nipun\\AppData\\Local\\Temp\\11/regdocs-file-download-4101249.\n",
      "2021-08-12 19:04:34,502 [MainThread  ] [INFO ]  Retrieving https://apps.cer-rec.gc.ca/REGDOCS/File/Download/4099449 to C:\\Users\\t1nipun\\AppData\\Local\\Temp\\11/regdocs-file-download-4099449.\n",
      "2021-08-12 19:04:36,094 [MainThread  ] [INFO ]  Retrieving https://apps.cer-rec.gc.ca/REGDOCS/File/Download/4099640 to C:\\Users\\t1nipun\\AppData\\Local\\Temp\\11/regdocs-file-download-4099640.\n",
      "2021-08-12 19:04:37,680 [MainThread  ] [INFO ]  Retrieving https://apps.cer-rec.gc.ca/REGDOCS/File/Download/4099878 to C:\\Users\\t1nipun\\AppData\\Local\\Temp\\11/regdocs-file-download-4099878.\n",
      "2021-08-12 19:04:39,601 [MainThread  ] [INFO ]  Retrieving https://apps.cer-rec.gc.ca/REGDOCS/File/Download/4099438 to C:\\Users\\t1nipun\\AppData\\Local\\Temp\\11/regdocs-file-download-4099438.\n",
      "2021-08-12 19:04:41,941 [MainThread  ] [INFO ]  Retrieving https://apps.cer-rec.gc.ca/REGDOCS/File/Download/4099880 to C:\\Users\\t1nipun\\AppData\\Local\\Temp\\11/regdocs-file-download-4099880.\n",
      "2021-08-12 19:04:43,574 [MainThread  ] [INFO ]  Retrieving https://apps.cer-rec.gc.ca/REGDOCS/File/Download/4099881 to C:\\Users\\t1nipun\\AppData\\Local\\Temp\\11/regdocs-file-download-4099881.\n",
      "Wall time: 17.3 s\n"
     ]
    }
   ],
   "source": [
    "%%time \n",
    "# CPU times: user 2min 15s, sys: 18.2 s, total: 2min 33s\n",
    "# Wall time: 1h 20min 9s; 24 May 2021\n",
    "list_strings = []\n",
    "bad_files = []\n",
    "\n",
    "for x in df_attributes['download_link'][:10]:\n",
    "    try:\n",
    "        pdf_dict = parser.from_file(x) #start of Tika; type string\n",
    "        raw_string = pdf_dict['content']\n",
    "#         print(raw_string)\n",
    "        df_ = pd.DataFrame([raw_string], columns = ['raw_string'])\n",
    "        df_['download_link'] = x\n",
    "        \n",
    "        list_strings.append(df_)                    \n",
    "    except: \n",
    "        bad_files.append(x)\n",
    "        \n",
    "with open('C:/Users/t1nipun/Desktop/files/RH0012020_strings.txt', 'wb') as fp:  ## concatenate text strings in a .txt file from all the PDFs\n",
    "    pickle.dump(list_strings, fp)"
   ]
  },
  {
   "cell_type": "markdown",
   "metadata": {},
   "source": [
    "## Part 4: Spacy - sentence tokens "
   ]
  },
  {
   "cell_type": "code",
   "execution_count": 28,
   "metadata": {},
   "outputs": [
    {
     "output_type": "execute_result",
     "data": {
      "text/plain": [
       "10"
      ]
     },
     "metadata": {},
     "execution_count": 28
    },
    {
     "output_type": "execute_result",
     "data": {
      "text/plain": [
       "                                       download_link  \\\n",
       "0  https://apps.cer-rec.gc.ca/REGDOCS/File/Downlo...   \n",
       "0  https://apps.cer-rec.gc.ca/REGDOCS/File/Downlo...   \n",
       "0  https://apps.cer-rec.gc.ca/REGDOCS/File/Downlo...   \n",
       "0  https://apps.cer-rec.gc.ca/REGDOCS/File/Downlo...   \n",
       "0  https://apps.cer-rec.gc.ca/REGDOCS/File/Downlo...   \n",
       "\n",
       "                                        clean_string  \n",
       "0  File OF-Tolls-Group1-E101-2019-02 02 19 June 2...  \n",
       "0  450 - 1st Street SW Calgary, Alberta  T2P 5H1 ...  \n",
       "0  File OF-Tolls-Group1-E101-2019-02 02 8 June 20...  \n",
       "0  File OF-Tolls-Group1-E101-2019-02 02 7 June 20...  \n",
       "0  File OF-Tolls-Group1-E101-2019-02 02 4 June 20...  "
      ],
      "text/html": "<div>\n<style scoped>\n    .dataframe tbody tr th:only-of-type {\n        vertical-align: middle;\n    }\n\n    .dataframe tbody tr th {\n        vertical-align: top;\n    }\n\n    .dataframe thead th {\n        text-align: right;\n    }\n</style>\n<table border=\"1\" class=\"dataframe\">\n  <thead>\n    <tr style=\"text-align: right;\">\n      <th></th>\n      <th>download_link</th>\n      <th>clean_string</th>\n    </tr>\n  </thead>\n  <tbody>\n    <tr>\n      <td>0</td>\n      <td>https://apps.cer-rec.gc.ca/REGDOCS/File/Downlo...</td>\n      <td>File OF-Tolls-Group1-E101-2019-02 02 19 June 2...</td>\n    </tr>\n    <tr>\n      <td>0</td>\n      <td>https://apps.cer-rec.gc.ca/REGDOCS/File/Downlo...</td>\n      <td>450 - 1st Street SW Calgary, Alberta  T2P 5H1 ...</td>\n    </tr>\n    <tr>\n      <td>0</td>\n      <td>https://apps.cer-rec.gc.ca/REGDOCS/File/Downlo...</td>\n      <td>File OF-Tolls-Group1-E101-2019-02 02 8 June 20...</td>\n    </tr>\n    <tr>\n      <td>0</td>\n      <td>https://apps.cer-rec.gc.ca/REGDOCS/File/Downlo...</td>\n      <td>File OF-Tolls-Group1-E101-2019-02 02 7 June 20...</td>\n    </tr>\n    <tr>\n      <td>0</td>\n      <td>https://apps.cer-rec.gc.ca/REGDOCS/File/Downlo...</td>\n      <td>File OF-Tolls-Group1-E101-2019-02 02 4 June 20...</td>\n    </tr>\n  </tbody>\n</table>\n</div>"
     },
     "metadata": {},
     "execution_count": 28
    }
   ],
   "source": [
    "#load data and clean up\n",
    "with open ('C:/Users/t1nipun/Desktop/files/RH0012020_strings.txt', 'rb') as file:\n",
    "    pdf_strings = pickle.load(file)\n",
    "    \n",
    "len(pdf_strings)\n",
    "pdf_strings_df = pd.concat(pdf_strings)\n",
    "pdf_strings_df['clean_string'] = pdf_strings_df['raw_string'].str.replace('\\n', '').str.replace('\\t', '').str.replace('\\xa0', '')\n",
    "pdf_strings_df = pdf_strings_df.drop(['raw_string'], axis = 1)\n",
    "pdf_strings_df['clean_string'] = pdf_strings_df['clean_string'].str.strip()\n",
    "pdf_strings_df.head()"
   ]
  },
  {
   "cell_type": "code",
   "execution_count": 29,
   "metadata": {
    "scrolled": true
   },
   "outputs": [
    {
     "output_type": "stream",
     "name": "stdout",
     "text": [
      "Wall time: 15.7 s\n"
     ]
    }
   ],
   "source": [
    "%%time\n",
    "# CPU times: user 21min 7s, sys: 45.2 s, total: 21min 52s\n",
    "# Wall time: 21min 54s\n",
    "sents_list = []\n",
    "\n",
    "# for x, y in zip(df_all_record['clean string'][0:4], df_all_record['folder_link'][0:4]):\n",
    "for x, y in zip(pdf_strings_df['clean_string'], pdf_strings_df['download_link']):\n",
    "    try:\n",
    "        doc = nlp(x)\n",
    "        sentences = [x.text for x in doc.sents]\n",
    "        df_ = pd.DataFrame(sentences, columns = ['sentence'])\n",
    "        df_['download_link'] = str(y)\n",
    "        sents_list.append(df_)\n",
    "    except:\n",
    "        print(y)"
   ]
  },
  {
   "cell_type": "code",
   "execution_count": 26,
   "metadata": {},
   "outputs": [
    {
     "output_type": "execute_result",
     "data": {
      "text/plain": [
       "                                           sentence  \\\n",
       "0              File OF-Tolls-Group1-E101-2019-02 02   \n",
       "1                                   19 June 2021      \n",
       "2  To:  Canadian Shippers Group Distribution List     \n",
       "3                                MEG Energy Corp.     \n",
       "4                            Suncor Energy Inc.       \n",
       "\n",
       "                                       download_link  \n",
       "0  https://apps.cer-rec.gc.ca/REGDOCS/File/Downlo...  \n",
       "1  https://apps.cer-rec.gc.ca/REGDOCS/File/Downlo...  \n",
       "2  https://apps.cer-rec.gc.ca/REGDOCS/File/Downlo...  \n",
       "3  https://apps.cer-rec.gc.ca/REGDOCS/File/Downlo...  \n",
       "4  https://apps.cer-rec.gc.ca/REGDOCS/File/Downlo...  "
      ],
      "text/html": "<div>\n<style scoped>\n    .dataframe tbody tr th:only-of-type {\n        vertical-align: middle;\n    }\n\n    .dataframe tbody tr th {\n        vertical-align: top;\n    }\n\n    .dataframe thead th {\n        text-align: right;\n    }\n</style>\n<table border=\"1\" class=\"dataframe\">\n  <thead>\n    <tr style=\"text-align: right;\">\n      <th></th>\n      <th>sentence</th>\n      <th>download_link</th>\n    </tr>\n  </thead>\n  <tbody>\n    <tr>\n      <td>0</td>\n      <td>File OF-Tolls-Group1-E101-2019-02 02</td>\n      <td>https://apps.cer-rec.gc.ca/REGDOCS/File/Downlo...</td>\n    </tr>\n    <tr>\n      <td>1</td>\n      <td>19 June 2021</td>\n      <td>https://apps.cer-rec.gc.ca/REGDOCS/File/Downlo...</td>\n    </tr>\n    <tr>\n      <td>2</td>\n      <td>To:  Canadian Shippers Group Distribution List</td>\n      <td>https://apps.cer-rec.gc.ca/REGDOCS/File/Downlo...</td>\n    </tr>\n    <tr>\n      <td>3</td>\n      <td>MEG Energy Corp.</td>\n      <td>https://apps.cer-rec.gc.ca/REGDOCS/File/Downlo...</td>\n    </tr>\n    <tr>\n      <td>4</td>\n      <td>Suncor Energy Inc.</td>\n      <td>https://apps.cer-rec.gc.ca/REGDOCS/File/Downlo...</td>\n    </tr>\n  </tbody>\n</table>\n</div>"
     },
     "metadata": {},
     "execution_count": 26
    },
    {
     "output_type": "execute_result",
     "data": {
      "text/plain": [
       "(3609, 2)"
      ]
     },
     "metadata": {},
     "execution_count": 26
    }
   ],
   "source": [
    "df_sents_new = pd.concat(sents_list)\n",
    "df_sents_new.head()\n",
    "df_sents_new.shape"
   ]
  },
  {
   "cell_type": "code",
   "execution_count": 27,
   "metadata": {},
   "outputs": [],
   "source": [
    "df_sents_new.to_csv('huhu.csv')"
   ]
  },
  {
   "cell_type": "markdown",
   "metadata": {},
   "source": [
    "## Part 5: Topic specific NLP"
   ]
  },
  {
   "cell_type": "code",
   "execution_count": 13,
   "metadata": {
    "scrolled": true
   },
   "outputs": [
    {
     "name": "stdout",
     "output_type": "stream",
     "text": [
      "CPU times: user 3.18 s, sys: 13.5 ms, total: 3.19 s\n",
      "Wall time: 3.19 s\n"
     ]
    },
    {
     "data": {
      "text/html": [
       "<div>\n",
       "<style scoped>\n",
       "    .dataframe tbody tr th:only-of-type {\n",
       "        vertical-align: middle;\n",
       "    }\n",
       "\n",
       "    .dataframe tbody tr th {\n",
       "        vertical-align: top;\n",
       "    }\n",
       "\n",
       "    .dataframe thead th {\n",
       "        text-align: right;\n",
       "    }\n",
       "</style>\n",
       "<table border=\"1\" class=\"dataframe\">\n",
       "  <thead>\n",
       "    <tr style=\"text-align: right;\">\n",
       "      <th></th>\n",
       "      <th>sentence</th>\n",
       "      <th>download_link</th>\n",
       "      <th>type</th>\n",
       "    </tr>\n",
       "  </thead>\n",
       "  <tbody>\n",
       "    <tr>\n",
       "      <th>697</th>\n",
       "      <td>To understand the potential to stifle innovati...</td>\n",
       "      <td>https://apps.cer-rec.gc.ca/REGDOCS/File/Downlo...</td>\n",
       "      <td>innovation</td>\n",
       "    </tr>\n",
       "    <tr>\n",
       "      <th>1130</th>\n",
       "      <td>To understand the potential to stifle innovati...</td>\n",
       "      <td>https://apps.cer-rec.gc.ca/REGDOCS/File/Downlo...</td>\n",
       "      <td>innovation</td>\n",
       "    </tr>\n",
       "    <tr>\n",
       "      <th>332</th>\n",
       "      <td>Other examples: Inthe capital goods industry, ...</td>\n",
       "      <td>https://apps.cer-rec.gc.ca/REGDOCS/File/Downlo...</td>\n",
       "      <td>innovation</td>\n",
       "    </tr>\n",
       "    <tr>\n",
       "      <th>3113</th>\n",
       "      <td>Would you agree that upstream producers, espec...</td>\n",
       "      <td>https://apps.cer-rec.gc.ca/REGDOCS/File/Downlo...</td>\n",
       "      <td>innovation</td>\n",
       "    </tr>\n",
       "    <tr>\n",
       "      <th>1894</th>\n",
       "      <td>Where we moved away from strict cost of servic...</td>\n",
       "      <td>https://apps.cer-rec.gc.ca/REGDOCS/File/Downlo...</td>\n",
       "      <td>innovation</td>\n",
       "    </tr>\n",
       "  </tbody>\n",
       "</table>\n",
       "</div>"
      ],
      "text/plain": [
       "                                               sentence  \\\n",
       "697   To understand the potential to stifle innovati...   \n",
       "1130  To understand the potential to stifle innovati...   \n",
       "332   Other examples: Inthe capital goods industry, ...   \n",
       "3113  Would you agree that upstream producers, espec...   \n",
       "1894  Where we moved away from strict cost of servic...   \n",
       "\n",
       "                                          download_link        type  \n",
       "697   https://apps.cer-rec.gc.ca/REGDOCS/File/Downlo...  innovation  \n",
       "1130  https://apps.cer-rec.gc.ca/REGDOCS/File/Downlo...  innovation  \n",
       "332   https://apps.cer-rec.gc.ca/REGDOCS/File/Downlo...  innovation  \n",
       "3113  https://apps.cer-rec.gc.ca/REGDOCS/File/Downlo...  innovation  \n",
       "1894  https://apps.cer-rec.gc.ca/REGDOCS/File/Downlo...  innovation  "
      ]
     },
     "execution_count": 13,
     "metadata": {},
     "output_type": "execute_result"
    }
   ],
   "source": [
    "%%time\n",
    "pd.options.mode.chained_assignment = None  # default='warn'\n",
    "# create dfs based on topic\n",
    "# next steps: explore regex, + or - ten sentences in index to expand scope\n",
    "# remove not sentences ex. classify is sentence is not sentence \n",
    "\n",
    "df_public_interest = df_sents_new[df_sents_new['sentence'].str.contains('public interest')]\n",
    "df_public_interest['type'] = 'public interest'\n",
    "\n",
    "df_competition = df_sents_new[df_sents_new['sentence'].str.contains('competitiveness|competitive|competition|compete')]#.reset_index(drop = True)\n",
    "df_competition['type'] = 'competition'  # df.loc[:, 'newCol'] = df['Month']*2 still error hence chained_assignment = None\n",
    "\n",
    "# df_reconciliation = df_sents_new[df_sents_new['sentence'].str.contains('Indigenous|First Nation|econciliation')]#.reset_index(drop = True)\n",
    "# df_reconciliation['type'] = 'Reconciliation'\n",
    "\n",
    "df_market_power = df_sents_new[df_sents_new['sentence'].str.contains('market power')]#.reset_index(drop = True)\n",
    "df_market_power['type'] = 'market power'\n",
    "\n",
    "df_tolling = df_sents_new[df_sents_new['sentence'].str.contains('tolling principle|just and reasonable|economic efficiency|market signal|discrimina|cross-subsidi')]#.reset_index(drop = True)\n",
    "df_tolling['type'] = 'tolling'\n",
    "\n",
    "df_risk = df_sents_new[df_sents_new['sentence'].str.contains('fundamental risk')]#.reset_index(drop = True)\n",
    "df_risk['type'] = 'risk'\n",
    "\n",
    "df_keystone = df_sents_new[df_sents_new['sentence'].str.contains('eystone|KXL')]#.reset_index(drop = True)\n",
    "df_keystone['type'] = 'Keystone'\n",
    "\n",
    "df_lakehead = df_sents_new[df_sents_new['sentence'].str.contains('Lakehead')]#.reset_index(drop = True)\n",
    "df_lakehead['type'] = 'Lakehead'\n",
    "\n",
    "df_trans_mountain = df_sents_new[df_sents_new['sentence'].str.contains('Trans Mountain|TMX')]#.reset_index(drop = True)\n",
    "df_trans_mountain['type'] = 'Trans Mountain'\n",
    "\n",
    "df_contract = df_sents_new[df_sents_new['sentence'].str.contains('contract')]#.reset_index(drop = True)\n",
    "df_contract['type'] = 'contracting'\n",
    "\n",
    "df_line9 = df_sents_new[df_sents_new['sentence'].str.contains('Line 9')]#.reset_index(drop = True)\n",
    "df_line9['type'] = 'Line 9'\n",
    "\n",
    "df_ROE = df_sents_new[df_sents_new['sentence'].str.contains('ROE')]#.reset_index(drop = True)\n",
    "df_ROE['type'] = 'ROE'\n",
    "\n",
    "df_innovative = df_sents_new[df_sents_new['sentence'].str.contains('innovative|innovation|innovate')]#.reset_index(drop = True)\n",
    "df_innovative['type'] = 'innovation'\n",
    "\n",
    "df_sentences_type = pd.concat([df_public_interest, df_competition, df_market_power, \\\n",
    "                               df_tolling, df_risk, df_keystone, df_lakehead, df_trans_mountain, df_contract, \\\n",
    "                               df_ROE, df_line9, df_innovative])\n",
    "df_sentences_type.shape\n",
    "df_sentences_type.to_csv('RH0012020_strings_sents_special.csv', index = False)\n",
    "df_sentences_type.tail()"
   ]
  },
  {
   "cell_type": "markdown",
   "metadata": {},
   "source": [
    "### Tokens, names entities, noun chunks"
   ]
  },
  {
   "cell_type": "code",
   "execution_count": 14,
   "metadata": {},
   "outputs": [
    {
     "name": "stdout",
     "output_type": "stream",
     "text": [
      "CPU times: user 4min 42s, sys: 1.15 s, total: 4min 43s\n",
      "Wall time: 4min 43s\n"
     ]
    }
   ],
   "source": [
    "%%time \n",
    "# CPU times: user 4min 42s, sys: 1.15 s, total: 4min 43s\n",
    "# Wall time: 4min 43s\n",
    "\n",
    "tokens_list = []\n",
    "ents_list = []\n",
    "nouns_list = []\n",
    "nlp.max_length = 2000000\n",
    "\n",
    "for x , y, z in zip(df_sentences_type['sentence'], df_sentences_type['download_link'], df_sentences_type['type']): #testing all\n",
    "# for x , y in zip(df['text_string'].to_list()[0:2], df['link'].to_list()[0:2]): #testing small\n",
    "    doc = nlp(x)\n",
    "    \n",
    "    tokens = [(x.text, x.pos_, x.tag_, x.dep_, x.shape_, x.is_alpha, x.is_stop) for x in doc]\n",
    "    df_tokens = pd.DataFrame(tokens, columns = ['token', 'pos', 'tag', 'dep', 'shape_', 'is_alpha', 'is_stop'])\n",
    "    df_tokens['download_link'] = y\n",
    "    df_tokens['sentence'] = x\n",
    "    df_tokens['type'] = z\n",
    "    tokens_list.append(hdf_tokens)\n",
    "    \n",
    "    ents = [(x.text, x.start_char, x.end_char, x.label_) for x in doc.ents]\n",
    "    df_ents = pd.DataFrame(ents, columns = ['token', 'start_char', 'end_char', 'ent_label'])\n",
    "    df_ents['download_link'] = y\n",
    "    df_ents['sentence'] = x\n",
    "    df_ents['type'] = z\n",
    "    ents_list.append(df_ents)\n",
    "    \n",
    "    nouns = [x.text for x in doc.noun_chunks]\n",
    "    df_nouns = pd.DataFrame(nouns, columns = ['noun_chunks'])\n",
    "    df_nouns['download_link'] = y \n",
    "#     nouns = [(x.text, x.root.text, x.root.dep_, x.root.head.text) for x in doc.noun_chunks]\n",
    "#     df_nouns = pd.DataFrame(nouns, columns = ['noun_chunks', 'root_text', 'root_dep', 'root_head'])\n",
    "    df_nouns['sentence'] = x\n",
    "    df_nouns['type'] = z\n",
    "    nouns_list.append(df_nouns)"
   ]
  },
  {
   "cell_type": "code",
   "execution_count": 21,
   "metadata": {},
   "outputs": [
    {
     "data": {
      "text/html": [
       "<div>\n",
       "<style scoped>\n",
       "    .dataframe tbody tr th:only-of-type {\n",
       "        vertical-align: middle;\n",
       "    }\n",
       "\n",
       "    .dataframe tbody tr th {\n",
       "        vertical-align: top;\n",
       "    }\n",
       "\n",
       "    .dataframe thead th {\n",
       "        text-align: right;\n",
       "    }\n",
       "</style>\n",
       "<table border=\"1\" class=\"dataframe\">\n",
       "  <thead>\n",
       "    <tr style=\"text-align: right;\">\n",
       "      <th></th>\n",
       "      <th>noun_chunks</th>\n",
       "      <th>download_link</th>\n",
       "      <th>sentence</th>\n",
       "      <th>type</th>\n",
       "    </tr>\n",
       "  </thead>\n",
       "  <tbody>\n",
       "    <tr>\n",
       "      <th>0</th>\n",
       "      <td>which crude oil price impacts</td>\n",
       "      <td>https://apps.cer-rec.gc.ca/REGDOCS/File/Downlo...</td>\n",
       "      <td>d) Explain which crude oil price impacts, if a...</td>\n",
       "      <td>public interest</td>\n",
       "    </tr>\n",
       "    <tr>\n",
       "      <th>1</th>\n",
       "      <td>your business</td>\n",
       "      <td>https://apps.cer-rec.gc.ca/REGDOCS/File/Downlo...</td>\n",
       "      <td>d) Explain which crude oil price impacts, if a...</td>\n",
       "      <td>public interest</td>\n",
       "    </tr>\n",
       "    <tr>\n",
       "      <th>2</th>\n",
       "      <td>the Canadian public interest</td>\n",
       "      <td>https://apps.cer-rec.gc.ca/REGDOCS/File/Downlo...</td>\n",
       "      <td>d) Explain which crude oil price impacts, if a...</td>\n",
       "      <td>public interest</td>\n",
       "    </tr>\n",
       "    <tr>\n",
       "      <th>0</th>\n",
       "      <td>Attachment</td>\n",
       "      <td>https://apps.cer-rec.gc.ca/REGDOCS/File/Downlo...</td>\n",
       "      <td>Attachment to Commission Letter dated 1 Februa...</td>\n",
       "      <td>public interest</td>\n",
       "    </tr>\n",
       "    <tr>\n",
       "      <th>1</th>\n",
       "      <td>Commission Letter</td>\n",
       "      <td>https://apps.cer-rec.gc.ca/REGDOCS/File/Downlo...</td>\n",
       "      <td>Attachment to Commission Letter dated 1 Februa...</td>\n",
       "      <td>public interest</td>\n",
       "    </tr>\n",
       "  </tbody>\n",
       "</table>\n",
       "</div>"
      ],
      "text/plain": [
       "                     noun_chunks  \\\n",
       "0  which crude oil price impacts   \n",
       "1                  your business   \n",
       "2   the Canadian public interest   \n",
       "0                     Attachment   \n",
       "1              Commission Letter   \n",
       "\n",
       "                                       download_link  \\\n",
       "0  https://apps.cer-rec.gc.ca/REGDOCS/File/Downlo...   \n",
       "1  https://apps.cer-rec.gc.ca/REGDOCS/File/Downlo...   \n",
       "2  https://apps.cer-rec.gc.ca/REGDOCS/File/Downlo...   \n",
       "0  https://apps.cer-rec.gc.ca/REGDOCS/File/Downlo...   \n",
       "1  https://apps.cer-rec.gc.ca/REGDOCS/File/Downlo...   \n",
       "\n",
       "                                            sentence             type  \n",
       "0  d) Explain which crude oil price impacts, if a...  public interest  \n",
       "1  d) Explain which crude oil price impacts, if a...  public interest  \n",
       "2  d) Explain which crude oil price impacts, if a...  public interest  \n",
       "0  Attachment to Commission Letter dated 1 Februa...  public interest  \n",
       "1  Attachment to Commission Letter dated 1 Februa...  public interest  "
      ]
     },
     "execution_count": 21,
     "metadata": {},
     "output_type": "execute_result"
    },
    {
     "data": {
      "text/plain": [
       "(274300, 4)"
      ]
     },
     "execution_count": 21,
     "metadata": {},
     "output_type": "execute_result"
    }
   ],
   "source": [
    "df_tokens_all = pd.concat(tokens_list)\n",
    "df_tokens_all.head()\n",
    "df_tokens_all = df_tokens_all[df_tokens_all['is_stop'] == False] #remove stop words\n",
    "df_tokens_all = df_tokens_all[df_tokens_all['is_alpha'] == True] #remove \n",
    "df_tokens_all.shape\n",
    "df_tokens_all.to_csv('RH0012020_tokens_sentspecial.csv', index = False)\n",
    "\n",
    "df_ents_all = pd.concat(ents_list)\n",
    "df_ents_all['explained'] = df_ents_all['ent_label'].apply(lambda x: spacy.explain(x))\n",
    "df_ents_all.head()\n",
    "df_ents_all.shape\n",
    "df_ents_all.to_csv('RH0012020_ents_sentspecial.csv', index = False)\n",
    "\n",
    "df_nouns_all = pd.concat(nouns_list)\n",
    "df_nouns_all.head()\n",
    "df_nouns_all.to_csv('RH0012020_nouns_sentspecial.csv', index = False)\n",
    "df_nouns_all.shape"
   ]
  },
  {
   "cell_type": "code",
   "execution_count": 23,
   "metadata": {},
   "outputs": [
    {
     "data": {
      "text/html": [
       "<div>\n",
       "<style scoped>\n",
       "    .dataframe tbody tr th:only-of-type {\n",
       "        vertical-align: middle;\n",
       "    }\n",
       "\n",
       "    .dataframe tbody tr th {\n",
       "        vertical-align: top;\n",
       "    }\n",
       "\n",
       "    .dataframe thead th {\n",
       "        text-align: right;\n",
       "    }\n",
       "</style>\n",
       "<table border=\"1\" class=\"dataframe\">\n",
       "  <thead>\n",
       "    <tr style=\"text-align: right;\">\n",
       "      <th></th>\n",
       "      <th>sentence</th>\n",
       "      <th>download_link</th>\n",
       "    </tr>\n",
       "  </thead>\n",
       "  <tbody>\n",
       "    <tr>\n",
       "      <th>0</th>\n",
       "      <td>File OF-Tolls-Group1-E101-2019-02 02 12 May 20...</td>\n",
       "      <td>https://apps.cer-rec.gc.ca/REGDOCS/File/Downlo...</td>\n",
       "    </tr>\n",
       "    <tr>\n",
       "      <th>1</th>\n",
       "      <td>To: All Participants in the RH-001-2020 Procee...</td>\n",
       "      <td>https://apps.cer-rec.gc.ca/REGDOCS/File/Downlo...</td>\n",
       "    </tr>\n",
       "    <tr>\n",
       "      <th>2</th>\n",
       "      <td>(Enbridge)</td>\n",
       "      <td>https://apps.cer-rec.gc.ca/REGDOCS/File/Downlo...</td>\n",
       "    </tr>\n",
       "    <tr>\n",
       "      <th>3</th>\n",
       "      <td>Canadian Mainline Contracting Application Hear...</td>\n",
       "      <td>https://apps.cer-rec.gc.ca/REGDOCS/File/Downlo...</td>\n",
       "    </tr>\n",
       "    <tr>\n",
       "      <th>4</th>\n",
       "      <td>On 11 May 2021, the Commission of the Canada E...</td>\n",
       "      <td>https://apps.cer-rec.gc.ca/REGDOCS/File/Downlo...</td>\n",
       "    </tr>\n",
       "  </tbody>\n",
       "</table>\n",
       "</div>"
      ],
      "text/plain": [
       "                                            sentence  \\\n",
       "0  File OF-Tolls-Group1-E101-2019-02 02 12 May 20...   \n",
       "1  To: All Participants in the RH-001-2020 Procee...   \n",
       "2                                      (Enbridge)      \n",
       "3  Canadian Mainline Contracting Application Hear...   \n",
       "4  On 11 May 2021, the Commission of the Canada E...   \n",
       "\n",
       "                                       download_link  \n",
       "0  https://apps.cer-rec.gc.ca/REGDOCS/File/Downlo...  \n",
       "1  https://apps.cer-rec.gc.ca/REGDOCS/File/Downlo...  \n",
       "2  https://apps.cer-rec.gc.ca/REGDOCS/File/Downlo...  \n",
       "3  https://apps.cer-rec.gc.ca/REGDOCS/File/Downlo...  \n",
       "4  https://apps.cer-rec.gc.ca/REGDOCS/File/Downlo...  "
      ]
     },
     "execution_count": 23,
     "metadata": {},
     "output_type": "execute_result"
    }
   ],
   "source": [
    "df_sents_new.head()"
   ]
  },
  {
   "cell_type": "code",
   "execution_count": 24,
   "metadata": {},
   "outputs": [
    {
     "name": "stdout",
     "output_type": "stream",
     "text": [
      "CPU times: user 23min 59s, sys: 4.52 s, total: 24min 3s\n",
      "Wall time: 24min 6s\n"
     ]
    }
   ],
   "source": [
    "%%time \n",
    "#Wall time: 18min 51s\n",
    "tokens_list = []\n",
    "ents_list = []\n",
    "nouns_list = []\n",
    "nlp.max_length = 2000000\n",
    "\n",
    "for x , y in zip(df_sents_new['sentence'].to_list(), df_sents_new['download_link'].to_list()): #testing all\n",
    "# for x , y in zip(df['text_string'].to_list()[0:2], df['link'].to_list()[0:2]): #testing small\n",
    "    doc = nlp(x)\n",
    "    \n",
    "#     tokens = [(x.text, x.pos_, x.is_alpha, x.is_stop) for x in doc]\n",
    "#     df_tokens = pd.DataFrame(tokens, columns = ['token', 'pos', 'is_alpha', 'is_stop'])\n",
    "#     df_tokens['link'] = y\n",
    "#     tokens_list.append(df_tokens)\n",
    "    \n",
    "    ents = [(x.text, x.label_) for x in doc.ents]\n",
    "    df_ents = pd.DataFrame(ents, columns = ['token', 'ent_label'])\n",
    "    df_ents['link'] = y\n",
    "    df_ents['sentence'] = x\n",
    "    ents_list.append(df_ents)\n",
    "    \n",
    "#     nouns = [x.text for x in doc.noun_chunks]\n",
    "#     df_nouns = pd.DataFrame(nouns, columns = ['noun_chunks'])\n",
    "#     df_ents['sentence'] = x\n",
    "#     df_nouns['link'] = y \n",
    "#     nouns_list.append(df_nouns)"
   ]
  },
  {
   "cell_type": "code",
   "execution_count": 25,
   "metadata": {},
   "outputs": [
    {
     "data": {
      "text/html": [
       "<div>\n",
       "<style scoped>\n",
       "    .dataframe tbody tr th:only-of-type {\n",
       "        vertical-align: middle;\n",
       "    }\n",
       "\n",
       "    .dataframe tbody tr th {\n",
       "        vertical-align: top;\n",
       "    }\n",
       "\n",
       "    .dataframe thead th {\n",
       "        text-align: right;\n",
       "    }\n",
       "</style>\n",
       "<table border=\"1\" class=\"dataframe\">\n",
       "  <thead>\n",
       "    <tr style=\"text-align: right;\">\n",
       "      <th></th>\n",
       "      <th>token</th>\n",
       "      <th>ent_label</th>\n",
       "      <th>link</th>\n",
       "      <th>sentence</th>\n",
       "      <th>explained</th>\n",
       "    </tr>\n",
       "  </thead>\n",
       "  <tbody>\n",
       "    <tr>\n",
       "      <th>0</th>\n",
       "      <td>May 2021</td>\n",
       "      <td>DATE</td>\n",
       "      <td>https://apps.cer-rec.gc.ca/REGDOCS/File/Downlo...</td>\n",
       "      <td>File OF-Tolls-Group1-E101-2019-02 02 12 May 20...</td>\n",
       "      <td>Absolute or relative dates or periods</td>\n",
       "    </tr>\n",
       "    <tr>\n",
       "      <th>0</th>\n",
       "      <td>Enbridge Pipelines Inc.</td>\n",
       "      <td>ORG</td>\n",
       "      <td>https://apps.cer-rec.gc.ca/REGDOCS/File/Downlo...</td>\n",
       "      <td>To: All Participants in the RH-001-2020 Procee...</td>\n",
       "      <td>Companies, agencies, institutions, etc.</td>\n",
       "    </tr>\n",
       "    <tr>\n",
       "      <th>0</th>\n",
       "      <td>Enbridge</td>\n",
       "      <td>ORG</td>\n",
       "      <td>https://apps.cer-rec.gc.ca/REGDOCS/File/Downlo...</td>\n",
       "      <td>(Enbridge)</td>\n",
       "      <td>Companies, agencies, institutions, etc.</td>\n",
       "    </tr>\n",
       "    <tr>\n",
       "      <th>0</th>\n",
       "      <td>Canadian Mainline Contracting Application Hear...</td>\n",
       "      <td>ORG</td>\n",
       "      <td>https://apps.cer-rec.gc.ca/REGDOCS/File/Downlo...</td>\n",
       "      <td>Canadian Mainline Contracting Application Hear...</td>\n",
       "      <td>Companies, agencies, institutions, etc.</td>\n",
       "    </tr>\n",
       "    <tr>\n",
       "      <th>1</th>\n",
       "      <td>2020</td>\n",
       "      <td>DATE</td>\n",
       "      <td>https://apps.cer-rec.gc.ca/REGDOCS/File/Downlo...</td>\n",
       "      <td>Canadian Mainline Contracting Application Hear...</td>\n",
       "      <td>Absolute or relative dates or periods</td>\n",
       "    </tr>\n",
       "  </tbody>\n",
       "</table>\n",
       "</div>"
      ],
      "text/plain": [
       "                                               token ent_label  \\\n",
       "0                                           May 2021      DATE   \n",
       "0                            Enbridge Pipelines Inc.       ORG   \n",
       "0                                           Enbridge       ORG   \n",
       "0  Canadian Mainline Contracting Application Hear...       ORG   \n",
       "1                                               2020      DATE   \n",
       "\n",
       "                                                link  \\\n",
       "0  https://apps.cer-rec.gc.ca/REGDOCS/File/Downlo...   \n",
       "0  https://apps.cer-rec.gc.ca/REGDOCS/File/Downlo...   \n",
       "0  https://apps.cer-rec.gc.ca/REGDOCS/File/Downlo...   \n",
       "0  https://apps.cer-rec.gc.ca/REGDOCS/File/Downlo...   \n",
       "1  https://apps.cer-rec.gc.ca/REGDOCS/File/Downlo...   \n",
       "\n",
       "                                            sentence  \\\n",
       "0  File OF-Tolls-Group1-E101-2019-02 02 12 May 20...   \n",
       "0  To: All Participants in the RH-001-2020 Procee...   \n",
       "0                                      (Enbridge)      \n",
       "0  Canadian Mainline Contracting Application Hear...   \n",
       "1  Canadian Mainline Contracting Application Hear...   \n",
       "\n",
       "                                 explained  \n",
       "0    Absolute or relative dates or periods  \n",
       "0  Companies, agencies, institutions, etc.  \n",
       "0  Companies, agencies, institutions, etc.  \n",
       "0  Companies, agencies, institutions, etc.  \n",
       "1    Absolute or relative dates or periods  "
      ]
     },
     "execution_count": 25,
     "metadata": {},
     "output_type": "execute_result"
    },
    {
     "data": {
      "text/plain": [
       "(704046, 5)"
      ]
     },
     "execution_count": 25,
     "metadata": {},
     "output_type": "execute_result"
    }
   ],
   "source": [
    "df_ents_all = pd.concat(ents_list)\n",
    "df_ents_all['explained'] = df_ents_all['ent_label'].apply(lambda x: spacy.explain(x))\n",
    "df_ents_all.head()\n",
    "df_ents_all.shape\n",
    "df_ents_all.to_csv('RH0012020_ents_all.csv', index = False)"
   ]
  }
 ],
 "metadata": {
  "kernelspec": {
   "name": "python3",
   "display_name": "Python 3.7.4 64-bit ('base': conda)"
  },
  "language_info": {
   "codemirror_mode": {
    "name": "ipython",
    "version": 3
   },
   "file_extension": ".py",
   "mimetype": "text/x-python",
   "name": "python",
   "nbconvert_exporter": "python",
   "pygments_lexer": "ipython3",
   "version": "3.7.4"
  },
  "interpreter": {
   "hash": "6b87f323ca800d278b48e0721103cb96eb21240e7dd54a4151517f2bf8fe4b0d"
  }
 },
 "nbformat": 4,
 "nbformat_minor": 4
}