{
 "metadata": {
  "language_info": {
   "codemirror_mode": {
    "name": "ipython",
    "version": 3
   },
   "file_extension": ".py",
   "mimetype": "text/x-python",
   "name": "python",
   "nbconvert_exporter": "python",
   "pygments_lexer": "ipython3",
   "version": "3.7.4"
  },
  "orig_nbformat": 4,
  "kernelspec": {
   "name": "python3",
   "display_name": "Python 3.7.4 64-bit ('base': conda)"
  },
  "interpreter": {
   "hash": "6b87f323ca800d278b48e0721103cb96eb21240e7dd54a4151517f2bf8fe4b0d"
  }
 },
 "nbformat": 4,
 "nbformat_minor": 2,
 "cells": [
  {
   "cell_type": "code",
   "execution_count": 19,
   "metadata": {},
   "outputs": [],
   "source": [
    "import pandas as pd\n",
    "import os\n",
    "import time\n",
    "import spacy\n",
    "import en_core_web_sm\n",
    "nlp = en_core_web_sm.load()\n",
    "nlp.max_length = 60000000\n",
    "from tika import parser\n",
    "import pickle\n",
    "from textblob import TextBlob"
   ]
  },
  {
   "cell_type": "code",
   "execution_count": 2,
   "metadata": {},
   "outputs": [
    {
     "output_type": "stream",
     "name": "stdout",
     "text": [
      "['God', 'is', 'Great', '!', 'I', 'won', 'a', 'lottery', '.']\n"
     ]
    }
   ],
   "source": [
    "from nltk.tokenize import word_tokenize\n",
    "text = \"God is Great! I won a lottery.\"\n",
    "print(word_tokenize(text))"
   ]
  },
  {
   "cell_type": "code",
   "execution_count": 6,
   "metadata": {},
   "outputs": [],
   "source": [
    "raw = parser.from_file(\"4102482.pdf\")\n",
    "text_file = raw['content']\n",
    "with open('test.txt', 'wb') as f:\n",
    "    pickle.dump(text_file, f)"
   ]
  },
  {
   "cell_type": "code",
   "execution_count": 16,
   "metadata": {},
   "outputs": [
    {
     "output_type": "execute_result",
     "data": {
      "text/plain": [
       "'  File OF-Tolls-Group1-E101-2019-02 02 19 June 2021   To:  Canadian Shippers Group Distribution List  MEG Energy Corp.  Suncor Energy Inc.    Enbridge Pipelines Inc.  Canadian Mainline Contracting Application Hearing Order RH-001-2020 Aid to Questioning of Canadian Shippers Group (CSG), MEG Energy Corp.  (MEG) and Suncor Energy Inc. (Suncor) Witness Panels  In accordance with Procedural Update No. 3 (C12714) and Procedural Update No. 4 (C13017), the following aid to questioning may be referred to by counsel for the  Commission of the Canada Energy Regulator during questioning of the CSG, MEG and Suncor witness panels:  1. TransCanada Keystone International Joint Rate Tariff National Energy Board No. 18,  11 February 2016, (REGDOCS No. A75491-1) The document is attached. If you have any questions regarding this notice, please contact the Enbridge Process Advisory team at EnbridgeContracting@cer-rec.gc.ca.   Yours sincerely,   Signed by   Jean-Denis Charlebois Secretary of the Commission   Attachment (1) – Aid to Questioning   c.c.       All Participants in the RH-001-2020 Proceeding Appendix 1 to Commission Letter  Dated 19 June 2021 Page 1 of 2    Distribution List – Canadian Shippers Group, MEG Energy Corp. and Suncor Energy Inc.  Ms. Shonda Day Director Market Development Canadian Natural Resources Limited 2100, 855 - 2 Street SW Calgary, AB   T2P 4J8 Email Shonda.Day@cnrl.com   Mr. Martin Ignasiak Authorized Representative Canadian Natural Resources Limited Legal Counsel Osler, Hoskin & Harcourt LLP 450 – 1 Street SW Calgary, AB   T2P 5H1 Email mignasiak@osler.com   Mr. Keith Miller  Legal Counsel Keith Miller Law MEG Energy Corp. 2007 - 30 Avenue SW Calgary, AB   T2T 1R3 Email kfm@keithmiller.law Mr. Chris Blaker Authorized Representative, MEG Energy Corp. Director of Marketing Business Development MEG Energy Corporation 25th Floor, 600 – 3 Avenue SW Calgary, AB   T2P 0G5 Email Chris.Blaker@megenergy.com   Mr. David Mercier Authorized Representative, MEG Energy Corp. Director, Legal MEG Energy Corp. 25th Floor, 600 – 3 Avenue SW Calgary, AB   T2P 0G5 Email David.Mercier@megenergy.com Mr. Evan Dickinson Legal Counsel Shell Canada Limited P.O. Box 100, Station M 400 – 4 Avenue SW Calgary, AB   T2P 0J4 Email Evan.Dickinson@shell.com   Mr. Evan Dixon Authorized Representative, Shell Canada Limited Solicitor Shell Canada Limited 400 - 4 Avenue SW Calgary, AB   T2P 0J4 Email edixon@bdplaw.com   Mr. Brendan Downey Authorized Representative, Shell Canada Limited Solicitor Shell Canada Limited 2400, 525 - 8 Avenue SW Calgary, AB   T2P 1G1 Email bdowney@bdplaw.com   Mr. Robert Martz Authorized Representative, Shell Canada Limited Solicitor Shell Canada Limited 2400, 525 - 8 Avenue SW Calgary, AB   T2P 1G1 Email rmartz@bdplaw.com   Mr. Shawn Hinch Legal Manager and Vice President Total E&P Canada Ltd. 4700, 888 - 3 Street SW Calgary, AB   T2P 5C5 Email shawn.hinch@total.com    Mr. Ron Kruhlak Total E&P Canada Ltd. Legal Counsel McLennan Ross LLP 600 McLennan Ross Building 12220 Stony Plain Road Edmonton, AB   T5N 3Y4 Email rkruhlak@mross.com  Appendix 1 to Commission Letter  Dated 19 June 2021 Page 1 of 2   Mr. Jay Headrick Senior Legal Counsel Suncor Energy Inc. P.O. Box 2844 150 - 6 Avenue SW Calgary, AB   T2P 3E3 Email jheadrick@suncor.com  Ms. Katie Slipp Blake, Cassels & Graydon LLP 3500 Bankers Hall East Tower 855 - 2 Street SW Calgary, AB   T2P 4J8 Email katie.slipp@blakes.com Mr. C. Kemm Yates Suncor Energy Inc. 707, 308 - 4 Avenue SW Calgary, AB   T2P 0H7 Email cky@kemmyates.com    '"
      ]
     },
     "metadata": {},
     "execution_count": 16
    }
   ],
   "source": [
    "with open ('test.txt', 'rb') as file:\n",
    "    pdf_strings = pickle.load(file)\n",
    "\n",
    "pdf_clean_strings = pdf_strings.replace('\\n', '').replace('\\t', '').replace('\\xa0', '')\n",
    "pdf_clean_strings\n",
    "# pdf_strings_df = pdf_strings_df.drop(['raw_string'], axis = 1)\n",
    "# pdf_strings_df['clean_string'] = pdf_strings_df['clean_string'].str.strip()\n",
    "# pdf_strings_df.head()"
   ]
  },
  {
   "cell_type": "code",
   "execution_count": 18,
   "metadata": {},
   "outputs": [
    {
     "output_type": "stream",
     "name": "stdout",
     "text": [
      "['  File OF-Tolls-Group1-E101-2019-02 02 19 June 2021   To:  Canadian Shippers Group Distribution List  MEG Energy Corp.  Suncor Energy Inc.    Enbridge Pipelines Inc.  Canadian Mainline Contracting Application Hearing Order RH-001-2020 Aid to Questioning of Canadian Shippers Group (CSG), MEG Energy Corp.  (MEG) and Suncor Energy Inc. (Suncor) Witness Panels  In accordance with Procedural Update No.', '3 (C12714) and Procedural Update No.', '4 (C13017), the following aid to questioning may be referred to by counsel for the  Commission of the Canada Energy Regulator during questioning of the CSG, MEG and Suncor witness panels:  1.', 'TransCanada Keystone International Joint Rate Tariff National Energy Board No.', '18,  11 February 2016, (REGDOCS No.', 'A75491-1) The document is attached.', 'If you have any questions regarding this notice, please contact the Enbridge Process Advisory team at EnbridgeContracting@cer-rec.gc.ca.', 'Yours sincerely,   Signed by   Jean-Denis Charlebois Secretary of the Commission   Attachment (1) – Aid to Questioning   c.c.', 'All Participants in the RH-001-2020 Proceeding Appendix 1 to Commission Letter  Dated 19 June 2021 Page 1 of 2    Distribution List – Canadian Shippers Group, MEG Energy Corp. and Suncor Energy Inc.  Ms. Shonda Day Director Market Development Canadian Natural Resources Limited 2100, 855 - 2 Street SW Calgary, AB   T2P 4J8 Email Shonda.Day@cnrl.com   Mr. Martin Ignasiak Authorized Representative Canadian Natural Resources Limited Legal Counsel Osler, Hoskin & Harcourt LLP 450 – 1 Street SW Calgary, AB   T2P 5H1 Email mignasiak@osler.com   Mr. Keith Miller  Legal Counsel Keith Miller Law MEG Energy Corp. 2007 - 30 Avenue SW Calgary, AB   T2T 1R3 Email kfm@keithmiller.law Mr. Chris Blaker Authorized Representative, MEG Energy Corp. Director of Marketing Business Development MEG Energy Corporation 25th Floor, 600 – 3 Avenue SW Calgary, AB   T2P 0G5 Email Chris.Blaker@megenergy.com   Mr. David Mercier Authorized Representative, MEG Energy Corp. Director, Legal MEG Energy Corp. 25th Floor, 600 – 3 Avenue SW Calgary, AB   T2P 0G5 Email David.Mercier@megenergy.com Mr. Evan Dickinson Legal Counsel Shell Canada Limited P.O.', 'Box 100, Station M 400 – 4 Avenue SW Calgary, AB   T2P 0J4 Email Evan.Dickinson@shell.com   Mr. Evan Dixon Authorized Representative, Shell Canada Limited Solicitor Shell Canada Limited 400 - 4 Avenue SW Calgary, AB   T2P 0J4 Email edixon@bdplaw.com   Mr. Brendan Downey Authorized Representative, Shell Canada Limited Solicitor Shell Canada Limited 2400, 525 - 8 Avenue SW Calgary, AB   T2P 1G1 Email bdowney@bdplaw.com   Mr. Robert Martz Authorized Representative, Shell Canada Limited Solicitor Shell Canada Limited 2400, 525 - 8 Avenue SW Calgary, AB   T2P 1G1 Email rmartz@bdplaw.com   Mr. Shawn Hinch Legal Manager and Vice President Total E&P Canada Ltd. 4700, 888 - 3 Street SW Calgary, AB   T2P 5C5 Email shawn.hinch@total.com    Mr. Ron Kruhlak Total E&P Canada Ltd. Legal Counsel McLennan Ross LLP 600 McLennan Ross Building 12220 Stony Plain Road Edmonton, AB   T5N 3Y4 Email rkruhlak@mross.com  Appendix 1 to Commission Letter  Dated 19 June 2021 Page 1 of 2   Mr. Jay Headrick Senior Legal Counsel Suncor Energy Inc. P.O.', 'Box 2844 150 - 6 Avenue SW Calgary, AB   T2P 3E3 Email jheadrick@suncor.com  Ms. Katie Slipp Blake, Cassels & Graydon LLP 3500 Bankers Hall East Tower 855 - 2 Street SW Calgary, AB   T2P 4J8 Email katie.slipp@blakes.com Mr. C. Kemm Yates Suncor Energy Inc. 707, 308 - 4 Avenue SW Calgary, AB   T2P 0H7 Email cky@kemmyates.com']\n"
     ]
    }
   ],
   "source": [
    "from nltk.tokenize import sent_tokenize\n",
    "print(sent_tokenize(pdf_clean_strings))\n",
    "df = pd.DataFrame(sent_tokenize(pdf_clean_strings))\n",
    "df.to_csv('nltk_tokenize.csv', encoding = 'utf-8-sig')"
   ]
  },
  {
   "cell_type": "code",
   "execution_count": 24,
   "metadata": {},
   "outputs": [],
   "source": [
    "blob_object = TextBlob(pdf_clean_strings)\n",
    "df_blob = pd.DataFrame(blob_object.sentences)\n",
    "df.to_csv('textBlob_tokenize.csv', encoding = 'utf-8-sig')"
   ]
  }
 ]
}